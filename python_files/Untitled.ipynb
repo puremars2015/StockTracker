{
 "cells": [
  {
   "cell_type": "code",
   "execution_count": 2,
   "id": "c7a6feda",
   "metadata": {},
   "outputs": [
    {
     "name": "stdout",
     "output_type": "stream",
     "text": [
      "数据库打开成功\n"
     ]
    },
    {
     "ename": "OperationalError",
     "evalue": "table COMPANY already exists",
     "output_type": "error",
     "traceback": [
      "\u001b[1;31m---------------------------------------------------------------------------\u001b[0m",
      "\u001b[1;31mOperationalError\u001b[0m                          Traceback (most recent call last)",
      "\u001b[1;32m<ipython-input-2-07220372446f>\u001b[0m in \u001b[0;36m<module>\u001b[1;34m\u001b[0m\n\u001b[0;32m     11\u001b[0m \u001b[0mprint\u001b[0m \u001b[1;33m(\u001b[0m\u001b[1;34m\"数据库打开成功\"\u001b[0m\u001b[1;33m)\u001b[0m\u001b[1;33m\u001b[0m\u001b[1;33m\u001b[0m\u001b[0m\n\u001b[0;32m     12\u001b[0m \u001b[0mc\u001b[0m \u001b[1;33m=\u001b[0m \u001b[0mconn\u001b[0m\u001b[1;33m.\u001b[0m\u001b[0mcursor\u001b[0m\u001b[1;33m(\u001b[0m\u001b[1;33m)\u001b[0m\u001b[1;33m\u001b[0m\u001b[1;33m\u001b[0m\u001b[0m\n\u001b[1;32m---> 13\u001b[1;33m c.execute('''CREATE TABLE COMPANY\n\u001b[0m\u001b[0;32m     14\u001b[0m        (ID INT PRIMARY KEY     NOT NULL,\n\u001b[0;32m     15\u001b[0m        \u001b[0mNAME\u001b[0m           \u001b[0mTEXT\u001b[0m    \u001b[0mNOT\u001b[0m \u001b[0mNULL\u001b[0m\u001b[1;33m,\u001b[0m\u001b[1;33m\u001b[0m\u001b[1;33m\u001b[0m\u001b[0m\n",
      "\u001b[1;31mOperationalError\u001b[0m: table COMPANY already exists"
     ]
    }
   ],
   "source": [
    "# -*- coding: utf-8 -*-\n",
    "\"\"\"\n",
    "Created on Sun Mar 13 15:09:40 2022\n",
    "\n",
    "@author: purem\n",
    "\"\"\"\n",
    "\n",
    "import sqlite3\n",
    "\n",
    "conn = sqlite3.connect('test.db')\n",
    "print (\"数据库打开成功\")\n",
    "c = conn.cursor()\n",
    "c.execute('''CREATE TABLE COMPANY\n",
    "       (ID INT PRIMARY KEY     NOT NULL,\n",
    "       NAME           TEXT    NOT NULL,\n",
    "       AGE            INT     NOT NULL,\n",
    "       ADDRESS        CHAR(50),\n",
    "       SALARY         REAL);''')\n",
    "print (\"数据表创建成功\")\n",
    "conn.commit()\n",
    "conn.close()"
   ]
  },
  {
   "cell_type": "code",
   "execution_count": 15,
   "id": "fc2e1b64",
   "metadata": {},
   "outputs": [
    {
     "name": "stdout",
     "output_type": "stream",
     "text": [
      "数据库打开成功\n",
      "数据表寫入成功\n"
     ]
    }
   ],
   "source": [
    "import sqlite3\n",
    "\n",
    "conn = sqlite3.connect('test.db')\n",
    "print (\"数据库打开成功\")\n",
    "c = conn.cursor()\n",
    "try:\n",
    "    c.execute('''INSERT INTO COMPANY(ID,NAME,AGE,ADDRESS,SALARY) VALUES(5,'SEAN',30,'Pingtung city',3500)''')\n",
    "    print (\"数据表寫入成功\")\n",
    "    \n",
    "    conn.commit()\n",
    "except:\n",
    "    print (\"数据表寫入失敗\")\n",
    " \n",
    "conn.close()"
   ]
  },
  {
   "cell_type": "code",
   "execution_count": 16,
   "id": "dbae062b",
   "metadata": {},
   "outputs": [
    {
     "name": "stdout",
     "output_type": "stream",
     "text": [
      "数据库打开成功\n",
      "ID =  1\n",
      "NAME =  SEAN\n",
      "ADDRESS =  30\n",
      "SALARY =  Pingtung city \n",
      "\n",
      "ID =  2\n",
      "NAME =  SEAN\n",
      "ADDRESS =  30\n",
      "SALARY =  Pingtung city \n",
      "\n",
      "ID =  3\n",
      "NAME =  SEAN\n",
      "ADDRESS =  30\n",
      "SALARY =  Pingtung city \n",
      "\n",
      "ID =  4\n",
      "NAME =  SEAN\n",
      "ADDRESS =  30\n",
      "SALARY =  Pingtung city \n",
      "\n",
      "ID =  5\n",
      "NAME =  SEAN\n",
      "ADDRESS =  30\n",
      "SALARY =  Pingtung city \n",
      "\n",
      "数据表運行成功\n"
     ]
    }
   ],
   "source": [
    "\n",
    "\n",
    "import sqlite3\n",
    "\n",
    "conn = sqlite3.connect('test.db')\n",
    "print (\"数据库打开成功\")\n",
    "c = conn.cursor()\n",
    "cursor = c.execute('''SELECT * FROM COMPANY''')\n",
    "\n",
    "for row in cursor:\n",
    "   print (\"ID = \", row[0])\n",
    "   print (\"NAME = \", row[1])\n",
    "   print (\"ADDRESS = \", row[2])\n",
    "   print (\"SALARY = \", row[3], \"\\n\")\n",
    "\n",
    "print (\"数据表運行成功\")\n",
    "conn.commit()\n",
    "conn.close()"
   ]
  },
  {
   "cell_type": "code",
   "execution_count": 45,
   "id": "ebfc67f7",
   "metadata": {},
   "outputs": [
    {
     "name": "stdout",
     "output_type": "stream",
     "text": [
      "数据库打开成功\n",
      "5\n",
      "数据表運行成功\n"
     ]
    }
   ],
   "source": [
    "import sqlite3\n",
    "\n",
    "conn = sqlite3.connect('test.db')\n",
    "print (\"数据库打开成功\")\n",
    "c = conn.cursor()\n",
    "cursor = c.execute('''SELECT * FROM COMPANY ORDER BY ID DESC''')\n",
    "\n",
    "# for row in cursor:\n",
    "#    print (\"ID = \", row[0], \"\\n\")\n",
    "\n",
    "cs = cursor.fetchall()\n",
    "\n",
    "print(cs[0][0])\n",
    "\n",
    "print (\"数据表運行成功\")\n",
    "conn.commit()\n",
    "conn.close()"
   ]
  },
  {
   "cell_type": "code",
   "execution_count": 1,
   "id": "f8715ca5",
   "metadata": {},
   "outputs": [
    {
     "name": "stdout",
     "output_type": "stream",
     "text": [
      "数据库打开成功\n",
      "数据表创建成功\n"
     ]
    }
   ],
   "source": [
    "import sqlite3\n",
    "\n",
    "conn = sqlite3.connect('tradingview.db')\n",
    "print (\"数据库打开成功\")\n",
    "c = conn.cursor()\n",
    "c.execute('''CREATE TABLE ALERTMESSAGE\n",
    "       (ID INT PRIMARY KEY     NOT NULL,\n",
    "       MESSAGE         TEXT    NOT NULL,\n",
    "       EXECUTETIME     DATETIME NOT NULL);''')\n",
    "print (\"数据表创建成功\")\n",
    "conn.commit()\n",
    "conn.close()"
   ]
  },
  {
   "cell_type": "code",
   "execution_count": 6,
   "id": "70a4a4e5",
   "metadata": {},
   "outputs": [
    {
     "name": "stdout",
     "output_type": "stream",
     "text": [
      "数据库打开成功\n",
      "数据表寫入成功\n"
     ]
    }
   ],
   "source": [
    "import sqlite3\n",
    "from datetime import datetime\n",
    "\n",
    "\n",
    "conn = sqlite3.connect('tradingview.db')\n",
    "print (\"数据库打开成功\")\n",
    "c = conn.cursor()\n",
    "\n",
    "sql = '''INSERT INTO ALERTMESSAGE(ID,MESSAGE,EXECUTETIME) VALUES(0,'INIT','%s')''' % datetime.now()\n",
    "\n",
    "try:\n",
    "    c.execute(sql)\n",
    "    print (\"数据表寫入成功\")\n",
    "    \n",
    "    conn.commit()\n",
    "except:\n",
    "    print()\n",
    "    print (\"数据表寫入失敗\")\n",
    " \n",
    "conn.close()"
   ]
  },
  {
   "cell_type": "code",
   "execution_count": 47,
   "id": "ff1c3ce8",
   "metadata": {},
   "outputs": [
    {
     "name": "stdout",
     "output_type": "stream",
     "text": [
      " * Serving Flask app \"__main__\" (lazy loading)\n",
      " * Environment: production\n",
      "   WARNING: This is a development server. Do not use it in a production deployment.\n",
      "   Use a production WSGI server instead.\n",
      " * Debug mode: off\n"
     ]
    },
    {
     "name": "stderr",
     "output_type": "stream",
     "text": [
      " * Running on http://220.133.234.2:80/ (Press CTRL+C to quit)\n",
      "34.212.75.30 - - [14/Mar/2022 00:02:27] \"\u001b[37mPOST /webhook HTTP/1.1\u001b[0m\" 200 -\n"
     ]
    },
    {
     "name": "stdout",
     "output_type": "stream",
     "text": [
      "--request start--\n",
      "<Request 'http://thetainformation.com/webhook' [POST]>\n",
      "b'BTCUSDT \\xe4\\xba\\xa4\\xe5\\x8f\\x89(Crossing) 38933.68'\n",
      "--request end--\n"
     ]
    },
    {
     "name": "stderr",
     "output_type": "stream",
     "text": [
      "52.32.178.7 - - [14/Mar/2022 00:03:50] \"\u001b[37mPOST /webhook HTTP/1.1\u001b[0m\" 200 -\n"
     ]
    },
    {
     "name": "stdout",
     "output_type": "stream",
     "text": [
      "--request start--\n",
      "<Request 'http://thetainformation.com/webhook' [POST]>\n",
      "b'BTCUSDT \\xe5\\xb0\\x8f\\xe6\\x96\\xbc(Less Than) 40000.00'\n",
      "--request end--\n"
     ]
    }
   ],
   "source": [
    "# -*- coding: utf-8 -*-\n",
    "\"\"\"\n",
    "Created on Sat Mar  5 10:11:40 2022\n",
    "\n",
    "@author: purem\n",
    "\"\"\"\n",
    "from flask import Flask, request\n",
    "\n",
    "app = Flask(__name__)\n",
    "\n",
    "@app.route('/')\n",
    "def hello_world():\n",
    "    return 'hello world!'\n",
    "\n",
    "\n",
    "@app.route('/webhook', methods=['POST'])\n",
    "def webhook():\n",
    "    print(\"--request start--\")\n",
    "    print(request)\n",
    "    print(request.data)\n",
    "    print(\"--request end--\")\n",
    "    return \"OK!\"\n",
    "\n",
    "app.run(host='220.133.234.2', port=80)"
   ]
  },
  {
   "cell_type": "code",
   "execution_count": 1,
   "id": "04456e90",
   "metadata": {},
   "outputs": [
    {
     "name": "stdout",
     "output_type": "stream",
     "text": [
      " * Serving Flask app \"__main__\" (lazy loading)\n",
      " * Environment: production\n",
      "   WARNING: This is a development server. Do not use it in a production deployment.\n",
      "   Use a production WSGI server instead.\n",
      " * Debug mode: off\n"
     ]
    },
    {
     "name": "stderr",
     "output_type": "stream",
     "text": [
      " * Running on http://220.133.234.2:80/ (Press CTRL+C to quit)\n",
      "[2022-03-14 00:18:35,773] ERROR in app: Exception on /webhook [POST]\n",
      "Traceback (most recent call last):\n",
      "  File \"C:\\ProgramData\\Anaconda3\\lib\\site-packages\\flask\\app.py\", line 2447, in wsgi_app\n",
      "    response = self.full_dispatch_request()\n",
      "  File \"C:\\ProgramData\\Anaconda3\\lib\\site-packages\\flask\\app.py\", line 1952, in full_dispatch_request\n",
      "    rv = self.handle_user_exception(e)\n",
      "  File \"C:\\ProgramData\\Anaconda3\\lib\\site-packages\\flask\\app.py\", line 1821, in handle_user_exception\n",
      "    reraise(exc_type, exc_value, tb)\n",
      "  File \"C:\\ProgramData\\Anaconda3\\lib\\site-packages\\flask\\_compat.py\", line 39, in reraise\n",
      "    raise value\n",
      "  File \"C:\\ProgramData\\Anaconda3\\lib\\site-packages\\flask\\app.py\", line 1950, in full_dispatch_request\n",
      "    rv = self.dispatch_request()\n",
      "  File \"C:\\ProgramData\\Anaconda3\\lib\\site-packages\\flask\\app.py\", line 1936, in dispatch_request\n",
      "    return self.view_functions[rule.endpoint](**req.view_args)\n",
      "  File \"<ipython-input-1-8a87a50712df>\", line 26, in webhook\n",
      "    c.execute('''INSERT INTO COMPANY(ID,MESSAGE) VALUES(''' + (indexNumber+1) + ''')''')\n",
      "TypeError: can only concatenate str (not \"int\") to str\n",
      "52.32.178.7 - - [14/Mar/2022 00:18:35] \"\u001b[35m\u001b[1mPOST /webhook HTTP/1.1\u001b[0m\" 500 -\n"
     ]
    },
    {
     "name": "stdout",
     "output_type": "stream",
     "text": [
      "--request start--\n",
      "<Request 'http://thetainformation.com/webhook' [POST]>\n",
      "b'BTCUSDT \\xe5\\xb0\\x8f\\xe6\\x96\\xbc(Less Than) 40000.00'\n",
      "--request end--\n",
      "--open database connection--\n",
      "open database success\n"
     ]
    },
    {
     "name": "stderr",
     "output_type": "stream",
     "text": [
      "[2022-03-14 00:18:41,116] ERROR in app: Exception on /webhook [POST]\n",
      "Traceback (most recent call last):\n",
      "  File \"C:\\ProgramData\\Anaconda3\\lib\\site-packages\\flask\\app.py\", line 2447, in wsgi_app\n",
      "    response = self.full_dispatch_request()\n",
      "  File \"C:\\ProgramData\\Anaconda3\\lib\\site-packages\\flask\\app.py\", line 1952, in full_dispatch_request\n",
      "    rv = self.handle_user_exception(e)\n",
      "  File \"C:\\ProgramData\\Anaconda3\\lib\\site-packages\\flask\\app.py\", line 1821, in handle_user_exception\n",
      "    reraise(exc_type, exc_value, tb)\n",
      "  File \"C:\\ProgramData\\Anaconda3\\lib\\site-packages\\flask\\_compat.py\", line 39, in reraise\n",
      "    raise value\n",
      "  File \"C:\\ProgramData\\Anaconda3\\lib\\site-packages\\flask\\app.py\", line 1950, in full_dispatch_request\n",
      "    rv = self.dispatch_request()\n",
      "  File \"C:\\ProgramData\\Anaconda3\\lib\\site-packages\\flask\\app.py\", line 1936, in dispatch_request\n",
      "    return self.view_functions[rule.endpoint](**req.view_args)\n",
      "  File \"<ipython-input-1-8a87a50712df>\", line 26, in webhook\n",
      "    c.execute('''INSERT INTO COMPANY(ID,MESSAGE) VALUES(''' + (indexNumber+1) + ''')''')\n",
      "TypeError: can only concatenate str (not \"int\") to str\n",
      "34.212.75.30 - - [14/Mar/2022 00:18:41] \"\u001b[35m\u001b[1mPOST /webhook HTTP/1.1\u001b[0m\" 500 -\n"
     ]
    },
    {
     "name": "stdout",
     "output_type": "stream",
     "text": [
      "--request start--\n",
      "<Request 'http://thetainformation.com/webhook' [POST]>\n",
      "b'BTCUSDT \\xe5\\xb0\\x8f\\xe6\\x96\\xbc(Less Than) 40000.00'\n",
      "--request end--\n",
      "--open database connection--\n",
      "open database success\n"
     ]
    },
    {
     "name": "stderr",
     "output_type": "stream",
     "text": [
      "[2022-03-14 00:18:46,466] ERROR in app: Exception on /webhook [POST]\n",
      "Traceback (most recent call last):\n",
      "  File \"C:\\ProgramData\\Anaconda3\\lib\\site-packages\\flask\\app.py\", line 2447, in wsgi_app\n",
      "    response = self.full_dispatch_request()\n",
      "  File \"C:\\ProgramData\\Anaconda3\\lib\\site-packages\\flask\\app.py\", line 1952, in full_dispatch_request\n",
      "    rv = self.handle_user_exception(e)\n",
      "  File \"C:\\ProgramData\\Anaconda3\\lib\\site-packages\\flask\\app.py\", line 1821, in handle_user_exception\n",
      "    reraise(exc_type, exc_value, tb)\n",
      "  File \"C:\\ProgramData\\Anaconda3\\lib\\site-packages\\flask\\_compat.py\", line 39, in reraise\n",
      "    raise value\n",
      "  File \"C:\\ProgramData\\Anaconda3\\lib\\site-packages\\flask\\app.py\", line 1950, in full_dispatch_request\n",
      "    rv = self.dispatch_request()\n",
      "  File \"C:\\ProgramData\\Anaconda3\\lib\\site-packages\\flask\\app.py\", line 1936, in dispatch_request\n",
      "    return self.view_functions[rule.endpoint](**req.view_args)\n",
      "  File \"<ipython-input-1-8a87a50712df>\", line 26, in webhook\n",
      "    c.execute('''INSERT INTO COMPANY(ID,MESSAGE) VALUES(''' + (indexNumber+1) + ''')''')\n",
      "TypeError: can only concatenate str (not \"int\") to str\n",
      "52.32.178.7 - - [14/Mar/2022 00:18:46] \"\u001b[35m\u001b[1mPOST /webhook HTTP/1.1\u001b[0m\" 500 -\n"
     ]
    },
    {
     "name": "stdout",
     "output_type": "stream",
     "text": [
      "--request start--\n",
      "<Request 'http://thetainformation.com/webhook' [POST]>\n",
      "b'BTCUSDT \\xe5\\xb0\\x8f\\xe6\\x96\\xbc(Less Than) 40000.00'\n",
      "--request end--\n",
      "--open database connection--\n",
      "open database success\n"
     ]
    },
    {
     "name": "stderr",
     "output_type": "stream",
     "text": [
      "[2022-03-14 00:18:51,818] ERROR in app: Exception on /webhook [POST]\n",
      "Traceback (most recent call last):\n",
      "  File \"C:\\ProgramData\\Anaconda3\\lib\\site-packages\\flask\\app.py\", line 2447, in wsgi_app\n",
      "    response = self.full_dispatch_request()\n",
      "  File \"C:\\ProgramData\\Anaconda3\\lib\\site-packages\\flask\\app.py\", line 1952, in full_dispatch_request\n",
      "    rv = self.handle_user_exception(e)\n",
      "  File \"C:\\ProgramData\\Anaconda3\\lib\\site-packages\\flask\\app.py\", line 1821, in handle_user_exception\n",
      "    reraise(exc_type, exc_value, tb)\n",
      "  File \"C:\\ProgramData\\Anaconda3\\lib\\site-packages\\flask\\_compat.py\", line 39, in reraise\n",
      "    raise value\n",
      "  File \"C:\\ProgramData\\Anaconda3\\lib\\site-packages\\flask\\app.py\", line 1950, in full_dispatch_request\n",
      "    rv = self.dispatch_request()\n",
      "  File \"C:\\ProgramData\\Anaconda3\\lib\\site-packages\\flask\\app.py\", line 1936, in dispatch_request\n",
      "    return self.view_functions[rule.endpoint](**req.view_args)\n",
      "  File \"<ipython-input-1-8a87a50712df>\", line 26, in webhook\n",
      "    c.execute('''INSERT INTO COMPANY(ID,MESSAGE) VALUES(''' + (indexNumber+1) + ''')''')\n",
      "TypeError: can only concatenate str (not \"int\") to str\n",
      "52.32.178.7 - - [14/Mar/2022 00:18:51] \"\u001b[35m\u001b[1mPOST /webhook HTTP/1.1\u001b[0m\" 500 -\n"
     ]
    },
    {
     "name": "stdout",
     "output_type": "stream",
     "text": [
      "--request start--\n",
      "<Request 'http://thetainformation.com/webhook' [POST]>\n",
      "b'BTCUSDT \\xe5\\xb0\\x8f\\xe6\\x96\\xbc(Less Than) 40000.00'\n",
      "--request end--\n",
      "--open database connection--\n",
      "open database success\n"
     ]
    }
   ],
   "source": [
    "import sqlite3\n",
    "from flask import Flask, request\n",
    "\n",
    "app = Flask(__name__)\n",
    "\n",
    "@app.route('/')\n",
    "def hello_world():\n",
    "    return 'hello world!'\n",
    "\n",
    "\n",
    "@app.route('/webhook', methods=['POST'])\n",
    "def webhook():\n",
    "    print(\"--request start--\")\n",
    "    print(request)\n",
    "    print(request.data)\n",
    "    print(\"--request end--\")\n",
    "    \n",
    "    print(\"--open database connection--\")\n",
    "    conn = sqlite3.connect('tradingview.db')\n",
    "    print (\"open database success\")\n",
    "    c = conn.cursor()\n",
    "    cursor = c.execute('''SELECT * FROM ALERTMESSAGE ORDER BY ID DESC''')\n",
    "    cs = cursor.fetchall()\n",
    "    cs\n",
    "    indexNumber=cs[0][0]\n",
    "    c.execute('''INSERT INTO COMPANY(ID,MESSAGE) VALUES(''' + (indexNumber+1) + ''')''')\n",
    "    conn.close()\n",
    "    return \"OK!\"\n",
    "\n",
    "app.run(host='220.133.234.2', port=80)"
   ]
  },
  {
   "cell_type": "code",
   "execution_count": 5,
   "id": "1a5535ca",
   "metadata": {},
   "outputs": [
    {
     "name": "stdout",
     "output_type": "stream",
     "text": [
      "数据库打开成功\n",
      "[(1, '')]\n",
      "数据表運行成功\n"
     ]
    }
   ],
   "source": [
    "import sqlite3\n",
    "\n",
    "conn = sqlite3.connect('tradingview.db')\n",
    "print (\"数据库打开成功\")\n",
    "c = conn.cursor()\n",
    "cursor = c.execute('''SELECT * FROM ALERTMESSAGE''')\n",
    "\n",
    "# for row in cursor:\n",
    "#    print (\"ID = \", row[0])\n",
    "#    print (\"MESSAGE = \", row[1], \"\\n\")\n",
    "\n",
    "cs = cursor.fetchall()\n",
    "\n",
    "print(cs)\n",
    "\n",
    "print (\"数据表運行成功\")\n",
    "conn.commit()\n",
    "conn.close()"
   ]
  },
  {
   "cell_type": "code",
   "execution_count": 17,
   "id": "658a628d",
   "metadata": {},
   "outputs": [
    {
     "name": "stdout",
     "output_type": "stream",
     "text": [
      "数据库打开成功\n",
      "数据表创建成功\n",
      "数据表寫入成功\n"
     ]
    }
   ],
   "source": [
    "# tradingview.db環境建立\n",
    "\n",
    "\n",
    "import sqlite3\n",
    "from datetime import datetime\n",
    "\n",
    "conn = sqlite3.connect('tradingview.db')\n",
    "print (\"数据库打开成功\")\n",
    "c = conn.cursor()\n",
    "c.execute('''CREATE TABLE ALERTMESSAGE\n",
    "       (ID INT PRIMARY KEY     NOT NULL,\n",
    "       MESSAGE         TEXT    NOT NULL,\n",
    "       SYMBOL          TEXT    NOT NULL,\n",
    "       EXECUTETIME     DATETIME NOT NULL);''')\n",
    "print (\"数据表创建成功\")\n",
    "\n",
    "sql = '''INSERT INTO ALERTMESSAGE(ID,MESSAGE,SYMBOL,EXECUTETIME) VALUES(0,'INIT','INIT','%s')''' % datetime.now()\n",
    "\n",
    "try:\n",
    "    c.execute(sql)\n",
    "    print (\"数据表寫入成功\") \n",
    "    conn.commit()\n",
    "except:  \n",
    "    print (\"数据表寫入失敗\")\n",
    "    logging.exception(\"The detailed error message -\")\n",
    "\n",
    "conn.close()"
   ]
  },
  {
   "cell_type": "code",
   "execution_count": null,
   "id": "e91eb96c",
   "metadata": {},
   "outputs": [],
   "source": []
  }
 ],
 "metadata": {
  "kernelspec": {
   "display_name": "Python 3",
   "language": "python",
   "name": "python3"
  },
  "language_info": {
   "codemirror_mode": {
    "name": "ipython",
    "version": 3
   },
   "file_extension": ".py",
   "mimetype": "text/x-python",
   "name": "python",
   "nbconvert_exporter": "python",
   "pygments_lexer": "ipython3",
   "version": "3.6.10"
  }
 },
 "nbformat": 4,
 "nbformat_minor": 5
}
